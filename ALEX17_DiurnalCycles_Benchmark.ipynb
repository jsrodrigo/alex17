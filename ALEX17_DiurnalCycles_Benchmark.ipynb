{
 "cells": [
  {
   "cell_type": "markdown",
   "metadata": {},
   "source": [
    "# ALEX17 Diurnal Cycles Benchmark: A Large Domain In Complex Terrain\n",
    "## Introduction\n",
    "This is the model evaluation notebook of the ALEX17 benchmark. A guide for participants can be found [here](https://thewindvaneblog.com/alex17-diurnal-cycles-benchmark-a-large-domain-in-complex-terrain-b5029e94485)."
   ]
  },
  {
   "cell_type": "markdown",
   "metadata": {},
   "source": [
    "## Load libraries"
   ]
  },
  {
   "cell_type": "code",
   "execution_count": null,
   "metadata": {},
   "outputs": [],
   "source": [
    "%matplotlib inline\n",
    "# Python packages\n",
    "import os, datetime, sys\n",
    "import numpy as np\n",
    "import pandas as pd\n",
    "import matplotlib as plt\n",
    "from pathlib import Path\n",
    "import warnings\n",
    "# local functions\n",
    "from lib.common_functions import ensure_dir\n",
    "from lib.benchmark.alex17_functions import read_sim, read_obs\n",
    "from lib.benchmark.alex17_plots import *\n",
    "from lib.benchmark.alex17_qoi import *\n",
    "\n",
    "#from lib.alex17_functions import *  \n",
    "from IPython.display import Markdown, display\n",
    "import ipywidgets as widgets\n",
    "\n",
    "# jupyter lines\n",
    "%load_ext autoreload\n",
    "%autoreload 2"
   ]
  },
  {
   "cell_type": "code",
   "execution_count": null,
   "metadata": {},
   "outputs": [],
   "source": [
    "%%javascript \n",
    "IPython.OutputArea.prototype._should_scroll = function(lines) {\n",
    "    return false\n",
    "}"
   ]
  },
  {
   "cell_type": "markdown",
   "metadata": {},
   "source": [
    "## Participants"
   ]
  },
  {
   "cell_type": "code",
   "execution_count": null,
   "metadata": {},
   "outputs": [],
   "source": [
    "# Set the csv filename with simulation's id and descriptions.\n",
    "sim_list_file = 'alex17_sims'\n",
    "\n",
    "# read table with models and simulation's description\n",
    "sims = pd.read_csv(Path('./outputs')/(sim_list_file+'.csv'), comment='#')\n",
    "sims"
   ]
  },
  {
   "cell_type": "markdown",
   "metadata": {},
   "source": [
    "## Input Data\n",
    "### Input options"
   ]
  },
  {
   "cell_type": "code",
   "execution_count": null,
   "metadata": {},
   "outputs": [],
   "source": [
    "# Choose whether to save tables and figures as png files\n",
    "saveFigures = False\n",
    "saveTables  = False\n",
    "\n",
    "# set the desired dip for image quality (if saveFigures is True)\n",
    "dpi_fig = 100\n",
    "\n",
    "# set paths of output files and input observations\n",
    "observations_path   = Path('./observations')\n",
    "output_path_figures = Path('./output_figures') / sim_list_file\n",
    "\n",
    "# make sure directories exist. Created them otherwise\n",
    "ensure_dir(output_path_figures) if saveFigures else ''\n",
    "ensure_dir(observations_path) if saveTables else ''"
   ]
  },
  {
   "cell_type": "markdown",
   "metadata": {},
   "source": [
    "### Instrument data, layout and Elevation Map"
   ]
  },
  {
   "cell_type": "code",
   "execution_count": null,
   "metadata": {},
   "outputs": [],
   "source": [
    "# Read file of mast names and position\n",
    "masts = pd.read_csv(Path(\"./inputs/masts.csv\"))\n",
    "masts = masts.drop(masts[masts['Name']=='WLS70'].index)\n",
    "\n",
    "# Read Z-transect points' location\n",
    "Ztransect = pd.read_csv('./inputs/Ztransect.csv') # read {x,y,x} coordinates of Z-transect\n",
    "\n",
    "# digital elevation map file\n",
    "tif_topofile = Path('./inputs/DTM_Alaiz_2m.tif')\n",
    "\n",
    "# plot overall site characteristics\n",
    "f, a = plot_topography(tif_topofile, Ztransect, masts)\n",
    "saveFigureFunction(saveFigures, f, output_path_figures / ('overview.png'), dpi_fig)"
   ]
  },
  {
   "cell_type": "markdown",
   "metadata": {},
   "source": [
    "### Mesoscale Input Data\n",
    "Mesoscale simulations have been produced adopting most of the WRF settings that were used in the production run of the New European Wind Atlas (NEWA). Three one-way nested domains of 27, 9 and 3 km resolution are configured centred at the wind farm centroid. The vertical grid has 61 terrain-following (sigma) levels, with 10 levels covering the first 200 meters, more specifically at: 6, 22, 40, 56, 73, 90, 113, 140, 179 and 205 meters. High resolution topography (SRTM 90m) and updated land use categories (Corine Land Cover 2018), together with the Noah land-surface model are used to define the boundary conditions at the surface. The physical parameterizations are: Mellor–Yamada–Nakanishi Niino 2.5-level planetary boundary-layer scheme (MYNN), WRF Single-Moment 5-class microphysics scheme, the Rapid Radiative Transfer Model for GCMs shortwave and longwave radiation schemes and the Kain-Fritsch cumulus scheme in the outermost domains 1 and 2. The simulation is driven by input data from ERA-5 in blocks of 5 days with additional spin-up time of 24 hours.   \n",
    "\n",
    "From the 3-km domain we extract output data that will be used as reference in validation plots. This constitute the baseline simulation (*alex17_00a*) that we try to improve with microscale modeling. "
   ]
  },
  {
   "cell_type": "markdown",
   "metadata": {},
   "source": [
    "## Validation Data\n",
    "Three sets of measurements will be used for validation of the submitted results. The meteorological mast measurements are available for the modelers to check and calibrate their results, whereas the lidar measurements will be used for validation after submission (blind test). \n",
    "1. Vertical profiles at *mast* positions.\n",
    "2. Wind vector at 125m a.g.l. along the *Z-transect*.\n",
    "3. Vertical RHI plane across the valley along the *B* segment of the *Z-transect*. The Plane connects WS3 [617846.796; 4732496.246] km and WS5 [617305.590; 4729848.751] km."
   ]
  },
  {
   "cell_type": "markdown",
   "metadata": {},
   "source": [
    "## Mast locations"
   ]
  },
  {
   "cell_type": "code",
   "execution_count": null,
   "metadata": {},
   "outputs": [],
   "source": [
    "# Load mast data contained in the observations netcdf file\n",
    "masts_obs = read_obs(Path('./observations/masts_obs.nc'))\n"
   ]
  },
  {
   "cell_type": "markdown",
   "metadata": {},
   "source": [
    "## Simulation Data\n",
    "We load the simulations defined in *sims* table. Three sets of output data are collected from each simulation: \n",
    "\n",
    "1. *simID_masts.nc*: Vertical profiles extending 1km from the surface at the met mast locations (*inputs/masts.csv* coordinates);\n",
    "2. *simID_Ztransect.nc*: Vertical planes along the Z-transect extending 1 km in the vertical (*inputs/Ztransect.csv* coordinates);\n",
    "3. *simID_box.nc*: Horizontal planes at 125 m and 40 m a.g.l., with horizontal resolution of 100 m, within the “box” [612–622; 4726–4736] km.\n",
    "\n",
    "Output data is provided based on 10-min averages."
   ]
  },
  {
   "cell_type": "code",
   "execution_count": null,
   "metadata": {},
   "outputs": [],
   "source": [
    "# Load dataset at masts positions from simulations files listed in the alex17_sims.csv\n",
    "masts_sim = {x:read_sim(Path('./outputs/' + x +'_masts.nc')) for x in sims['ID'].values }\n"
   ]
  },
  {
   "cell_type": "markdown",
   "metadata": {},
   "source": [
    "# Results at masts locations\n",
    "## Vertical profiles"
   ]
  },
  {
   "cell_type": "code",
   "execution_count": null,
   "metadata": {},
   "outputs": [],
   "source": [
    "# set events when different atm stability conditions ocurred and set a color to plot frames in the time series\n",
    "events = {'all'        :[datetime.datetime(2018,9,30,0,0,0),  datetime.datetime(2018,10,4,0,0,0),  'white'      ],\n",
    "          'neutral'    :[datetime.datetime(2018,10,1,18,0,0), datetime.datetime(2018,10,1,20,0,0), 'silver'     ],\n",
    "          'stable'     :[datetime.datetime(2018,10,2,3,0,0),  datetime.datetime(2018,10,2,5,0,0),  'lightblue'  ],\n",
    "          'unstable'   :[datetime.datetime(2018,10,2,12,0,0), datetime.datetime(2018,10,2,14,0,0), 'salmon'     ],\n",
    "          'very stable':[datetime.datetime(2018,10,3,4,0,0) , datetime.datetime(2018,10,3,6,0,0),  'deepskyblue']}\n"
   ]
  },
  {
   "cell_type": "code",
   "execution_count": null,
   "metadata": {},
   "outputs": [],
   "source": [
    "# List the mast's id you wish to plot\n",
    "masts2plot = ['MP5', 'M1', 'M2','M3','M5', 'M6', 'M7']\n",
    "\n",
    "#-------------------- Vertical profiles-------------------------------\n",
    "# select the events you want to plot\n",
    "events2plot = ['all','neutral','stable','unstable','very stable']\n",
    "events2plot = ['all']\n",
    "\n",
    "# list the variables and their labels\n",
    "vars2plot    = [\n",
    "               ['wind_speed',           r'wind speed [$m s^{-1}$]'],\n",
    "               ['wind_direction',        r'wind direction [deg]'],\n",
    "               ['turbulence_intensity',  r'turbulence intensity'],\n",
    "               # ['friction_velocity',     r'$u^*$'],\n",
    "               # ['heat_flux',             r'heat flux [$m K s^{-1}$]'],\n",
    "               ]\n",
    "\n",
    "for ev in events2plot:\n",
    "    for ivar in vars2plot:\n",
    "        print(\"--plotting: \"+ivar[0]+' ---------- cases: ' +ev)\n",
    "        f, ax = masts_sims_vs_obs_profiles_plot(events[ev], ivar, masts_obs, masts_sim, masts2plot)\n",
    "        ax[-1][-1].set_title('Episode: ' + ev )\n",
    "        saveFigureFunction(saveFigures, f, output_path_figures / ('vertical_profiles_'+ivar[0]+'_'+ev), dpi_fig)"
   ]
  },
  {
   "cell_type": "markdown",
   "metadata": {},
   "source": [
    "## Time series type of plots"
   ]
  },
  {
   "cell_type": "code",
   "execution_count": null,
   "metadata": {},
   "outputs": [],
   "source": [
    "# set the height to plot the time series\n",
    "h = 80\n",
    "\n",
    "# List the mast's id you wish to plot\n",
    "masts2plot = ['MP5', 'M1', 'M2','M3','M5', 'M6', 'M7']\n",
    "masts2plot = ['MP5']\n",
    "\n",
    "# set the variables to plot\n",
    "vars2plot_ts = [\n",
    "               ['wind_speed',              r'wind speed [$m s^{-1}$]'],\n",
    "               ['wind_direction',          r'wind direction [deg]'],\n",
    "               ['turbulence_intensity',    r'turbulence intensity'],\n",
    "               ['wind_shear', r'wind shear $\\alpha(80/40)$'],\n",
    "               # ['stability',  r'stability $z/L$ ($z$=10m)']\n",
    "               ]\n",
    "\n",
    "# Set x-limits of the time series plot\n",
    "datefrom, dateto = datetime.datetime(2018,9,30,0,0,0), datetime.datetime(2018,10,4,0,0,0)\n",
    "\n",
    "for mast in masts2plot:\n",
    "    f, ax = mast_sims_vs_obs_timeseries_plot(mast, h, vars2plot_ts, masts_obs, masts_sim, datefrom, dateto, events)\n",
    "    saveFigureFunction(saveFigures, f, output_path_figures / ('time_'+mast), dpi_fig)\n",
    "\n"
   ]
  },
  {
   "cell_type": "markdown",
   "metadata": {},
   "source": [
    "## Observation time series comparison"
   ]
  },
  {
   "cell_type": "code",
   "execution_count": null,
   "metadata": {},
   "outputs": [],
   "source": [
    "# set the height to plot the time series\n",
    "h = 80.\n",
    "# List the mast's id you wish to plot\n",
    "mast = ['MP5','M7', 'M5']\n",
    "\n",
    "f, ax = compare_masts_timeseries_plot(mast, h, vars2plot_ts, masts_obs, datefrom, dateto, events)\n",
    "saveFigureFunction(saveFigures, f, output_path_figures / ('mast_compare_'+mast[0]+'-'+mast[1]), dpi_fig)\n"
   ]
  },
  {
   "cell_type": "markdown",
   "metadata": {},
   "source": [
    "### Quantities of interest"
   ]
  },
  {
   "cell_type": "code",
   "execution_count": null,
   "metadata": {},
   "outputs": [],
   "source": [
    "# set the height to get the statistics\n",
    "h = 80.\n",
    "\n",
    "# get overall statistics (mean and std) of the observations at masts\n",
    "masts_obs_quois = table_statistics_mast(events, masts_obs, h)\n",
    "masts_obs_quois['MP5']\n"
   ]
  },
  {
   "cell_type": "code",
   "execution_count": null,
   "metadata": {},
   "outputs": [],
   "source": [
    "# get the overall data availability of each mast and each varaible\n",
    "obs_avai = table_availability_mast(masts_obs, output_path_figures)\n",
    "obs_avai.T"
   ]
  },
  {
   "cell_type": "markdown",
   "metadata": {},
   "source": [
    "## Bin-averages"
   ]
  },
  {
   "cell_type": "code",
   "execution_count": null,
   "metadata": {},
   "outputs": [],
   "source": [
    "# set the mast and heigth to use as reference\n",
    "mastID = 'M7'\n",
    "h = 80\n",
    "\n",
    "WDbins = np.arange(-5.,360.+5.,10)  # wind direction bins (12 sectors)\n",
    "WDbins_label = np.array([str(k+1) for k in range(36)])\n",
    "\n",
    "zLbins = np.array([-0.2,-0.02, 0.02, 0.2])      # 3 stability bins\n",
    "zLbins_label = np.array(['u','n','s'])\n",
    "\n",
    "bins_label = [WDbins_label, zLbins_label]\n",
    "\n",
    "WDref = masts_obs.wind_direction.sel(id = mastID, height = h)\n",
    "Sref = masts_obs.wind_speed.sel(id = mastID, height = h)\n",
    "zLref = masts_obs.stability.sel(id = mastID, height = 10)\n",
    "\n",
    "N_WDzL, binmap = WDzL_bins(WDref,zLref,Sref,'count',[WDbins, zLbins],[WDbins_label, zLbins_label],plot = False)\n",
    "N_WDzL.T"
   ]
  },
  {
   "cell_type": "code",
   "execution_count": null,
   "metadata": {},
   "outputs": [],
   "source": [
    "# main statistics from the observations at all masts\n",
    "for h in masts_obs.height:\n",
    "    height = 80.\n",
    "    obs_table = table_statistics_mast(events, masts_obs, h)\n",
    "    save_dftable(saveTables, obs_table, output_path_figures, 'Observation_statistics_'+str(int(h))+'m')\n",
    "\n",
    "qoi = ['wind_speed', 'wind_direction', 'turbulence_intensity','wind_shear']\n",
    "bias_table, mae_table = table_overall_errors(events, masts_obs, masts_sim, qoi, output_path_figures)\n"
   ]
  }
 ],
 "metadata": {
  "kernelspec": {
   "display_name": "Python 3",
   "language": "python",
   "name": "python3"
  },
  "language_info": {
   "codemirror_mode": {
    "name": "ipython",
    "version": 3
   },
   "file_extension": ".py",
   "mimetype": "text/x-python",
   "name": "python",
   "nbconvert_exporter": "python",
   "pygments_lexer": "ipython3",
   "version": "3.7.8"
  }
 },
 "nbformat": 4,
 "nbformat_minor": 2
}
